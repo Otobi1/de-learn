{
 "cells": [
  {
   "cell_type": "code",
   "execution_count": 1,
   "id": "a0df9c55-dba9-44c5-a2f8-20c6da079db3",
   "metadata": {},
   "outputs": [],
   "source": [
    "import pyspark\n",
    "from pyspark.sql import SparkSession\n",
    "import pandas as pd\n",
    "from pyspark.sql import types\n",
    "from pyspark.sql import functions as F"
   ]
  },
  {
   "cell_type": "code",
   "execution_count": 2,
   "id": "8547b497-223b-4ac2-a788-819c79e48142",
   "metadata": {},
   "outputs": [
    {
     "name": "stderr",
     "output_type": "stream",
     "text": [
      "Setting default log level to \"WARN\".\n",
      "To adjust logging level use sc.setLogLevel(newLevel). For SparkR, use setLogLevel(newLevel).\n",
      "24/09/12 16:05:32 WARN NativeCodeLoader: Unable to load native-hadoop library for your platform... using builtin-java classes where applicable\n"
     ]
    }
   ],
   "source": [
    "spark = SparkSession.builder \\\n",
    "        .master(\"local[*]\") \\\n",
    "        .appName('test') \\\n",
    "        .config(\"spark.executor.memory\", \"4g\") \\\n",
    "    \t.config(\"spark.driver.memory\", \"4g\") \\\n",
    "        .getOrCreate()"
   ]
  },
  {
   "cell_type": "code",
   "execution_count": 3,
   "id": "d7eed325-6d14-4137-be59-ec0a5224f0ab",
   "metadata": {},
   "outputs": [
    {
     "name": "stderr",
     "output_type": "stream",
     "text": [
      "                                                                                \r"
     ]
    },
    {
     "name": "stdout",
     "output_type": "stream",
     "text": [
      "root\n",
      " |-- VendorID: integer (nullable = true)\n",
      " |-- lpep_pickup_datetime: timestamp (nullable = true)\n",
      " |-- lpep_dropoff_datetime: timestamp (nullable = true)\n",
      " |-- store_and_fwd_flag: string (nullable = true)\n",
      " |-- RatecodeID: integer (nullable = true)\n",
      " |-- PULocationID: integer (nullable = true)\n",
      " |-- DOLocationID: integer (nullable = true)\n",
      " |-- passenger_count: integer (nullable = true)\n",
      " |-- trip_distance: double (nullable = true)\n",
      " |-- fare_amount: double (nullable = true)\n",
      " |-- extra: double (nullable = true)\n",
      " |-- mta_tax: double (nullable = true)\n",
      " |-- tip_amount: double (nullable = true)\n",
      " |-- tolls_amount: double (nullable = true)\n",
      " |-- ehail_fee: double (nullable = true)\n",
      " |-- improvement_surcharge: double (nullable = true)\n",
      " |-- total_amount: double (nullable = true)\n",
      " |-- payment_type: integer (nullable = true)\n",
      " |-- trip_type: integer (nullable = true)\n",
      " |-- congestion_surcharge: double (nullable = true)\n",
      "\n"
     ]
    }
   ],
   "source": [
    "df_green = spark.read.parquet('data/pq/green/*/*')\n",
    "df_green.printSchema()"
   ]
  },
  {
   "cell_type": "code",
   "execution_count": 5,
   "id": "9ffc706f-28e5-4cf8-a410-66ae469ca1c9",
   "metadata": {},
   "outputs": [
    {
     "data": {
      "text/plain": [
       "DataFrame[VendorID: int, lpep_pickup_datetime: timestamp, lpep_dropoff_datetime: timestamp, store_and_fwd_flag: string, RatecodeID: int, PULocationID: int, DOLocationID: int, passenger_count: int, trip_distance: double, fare_amount: double, extra: double, mta_tax: double, tip_amount: double, tolls_amount: double, ehail_fee: double, improvement_surcharge: double, total_amount: double, payment_type: int, trip_type: int, congestion_surcharge: double]"
      ]
     },
     "execution_count": 5,
     "metadata": {},
     "output_type": "execute_result"
    }
   ],
   "source": [
    "df_green"
   ]
  },
  {
   "cell_type": "code",
   "execution_count": 7,
   "id": "ac7d7393-fdac-42a2-86ee-c54304b513ff",
   "metadata": {},
   "outputs": [
    {
     "data": {
      "text/plain": [
       "MapPartitionsRDD[7] at javaToPython at NativeMethodAccessorImpl.java:0"
      ]
     },
     "execution_count": 7,
     "metadata": {},
     "output_type": "execute_result"
    }
   ],
   "source": [
    "df_green.rdd"
   ]
  },
  {
   "cell_type": "code",
   "execution_count": 6,
   "id": "633a5f66-9a54-47f5-8a07-a53084065eeb",
   "metadata": {},
   "outputs": [
    {
     "name": "stderr",
     "output_type": "stream",
     "text": [
      "                                                                                \r"
     ]
    },
    {
     "data": {
      "text/plain": [
       "[Row(VendorID=2, lpep_pickup_datetime=datetime.datetime(2020, 1, 23, 13, 10, 15), lpep_dropoff_datetime=datetime.datetime(2020, 1, 23, 13, 38, 16), store_and_fwd_flag='N', RatecodeID=1, PULocationID=74, DOLocationID=130, passenger_count=1, trip_distance=12.77, fare_amount=36.0, extra=0.0, mta_tax=0.5, tip_amount=2.05, tolls_amount=6.12, ehail_fee=None, improvement_surcharge=0.3, total_amount=44.97, payment_type=1, trip_type=1, congestion_surcharge=0.0),\n",
       " Row(VendorID=None, lpep_pickup_datetime=datetime.datetime(2020, 1, 20, 15, 9), lpep_dropoff_datetime=datetime.datetime(2020, 1, 20, 15, 46), store_and_fwd_flag=None, RatecodeID=None, PULocationID=67, DOLocationID=39, passenger_count=None, trip_distance=8.0, fare_amount=29.9, extra=2.75, mta_tax=0.5, tip_amount=0.0, tolls_amount=0.0, ehail_fee=None, improvement_surcharge=0.3, total_amount=33.45, payment_type=None, trip_type=None, congestion_surcharge=None),\n",
       " Row(VendorID=2, lpep_pickup_datetime=datetime.datetime(2020, 1, 15, 20, 23, 41), lpep_dropoff_datetime=datetime.datetime(2020, 1, 15, 20, 31, 18), store_and_fwd_flag='N', RatecodeID=1, PULocationID=260, DOLocationID=157, passenger_count=1, trip_distance=1.27, fare_amount=7.0, extra=0.5, mta_tax=0.5, tip_amount=0.0, tolls_amount=0.0, ehail_fee=None, improvement_surcharge=0.3, total_amount=8.3, payment_type=2, trip_type=1, congestion_surcharge=0.0),\n",
       " Row(VendorID=2, lpep_pickup_datetime=datetime.datetime(2020, 1, 5, 16, 32, 26), lpep_dropoff_datetime=datetime.datetime(2020, 1, 5, 16, 40, 51), store_and_fwd_flag='N', RatecodeID=1, PULocationID=82, DOLocationID=83, passenger_count=1, trip_distance=1.25, fare_amount=7.5, extra=0.0, mta_tax=0.5, tip_amount=0.0, tolls_amount=0.0, ehail_fee=None, improvement_surcharge=0.3, total_amount=8.3, payment_type=2, trip_type=1, congestion_surcharge=0.0),\n",
       " Row(VendorID=2, lpep_pickup_datetime=datetime.datetime(2020, 1, 29, 19, 22, 42), lpep_dropoff_datetime=datetime.datetime(2020, 1, 29, 19, 31, 2), store_and_fwd_flag='N', RatecodeID=1, PULocationID=166, DOLocationID=42, passenger_count=1, trip_distance=1.84, fare_amount=8.0, extra=1.0, mta_tax=0.5, tip_amount=2.94, tolls_amount=0.0, ehail_fee=None, improvement_surcharge=0.3, total_amount=12.74, payment_type=1, trip_type=1, congestion_surcharge=0.0)]"
      ]
     },
     "execution_count": 6,
     "metadata": {},
     "output_type": "execute_result"
    }
   ],
   "source": [
    "df_green.rdd.take(5)"
   ]
  },
  {
   "cell_type": "code",
   "execution_count": 8,
   "id": "37278d70-97bd-4214-aefd-ec01987b488c",
   "metadata": {},
   "outputs": [],
   "source": [
    "rdd = \\\n",
    "    df_green \\\n",
    "    .select('lpep_pickup_datetime', 'PULocationID', 'total_amount') \\\n",
    "    .rdd"
   ]
  },
  {
   "cell_type": "code",
   "execution_count": 9,
   "id": "d9e490e2-2117-4121-accb-efa861acb04d",
   "metadata": {},
   "outputs": [
    {
     "data": {
      "text/plain": [
       "[Row(lpep_pickup_datetime=datetime.datetime(2020, 1, 23, 13, 10, 15), PULocationID=74, total_amount=44.97),\n",
       " Row(lpep_pickup_datetime=datetime.datetime(2020, 1, 20, 15, 9), PULocationID=67, total_amount=33.45),\n",
       " Row(lpep_pickup_datetime=datetime.datetime(2020, 1, 15, 20, 23, 41), PULocationID=260, total_amount=8.3),\n",
       " Row(lpep_pickup_datetime=datetime.datetime(2020, 1, 5, 16, 32, 26), PULocationID=82, total_amount=8.3),\n",
       " Row(lpep_pickup_datetime=datetime.datetime(2020, 1, 29, 19, 22, 42), PULocationID=166, total_amount=12.74)]"
      ]
     },
     "execution_count": 9,
     "metadata": {},
     "output_type": "execute_result"
    }
   ],
   "source": [
    "rdd.take(5)"
   ]
  },
  {
   "cell_type": "code",
   "execution_count": 10,
   "id": "920cdeb5-3696-4c4a-a055-bb70bdb2e227",
   "metadata": {},
   "outputs": [
    {
     "data": {
      "text/plain": [
       "[Row(lpep_pickup_datetime=datetime.datetime(2020, 1, 23, 13, 10, 15), PULocationID=74, total_amount=44.97)]"
      ]
     },
     "execution_count": 10,
     "metadata": {},
     "output_type": "execute_result"
    }
   ],
   "source": [
    "rdd.filter(lambda row:True).take(1)"
   ]
  },
  {
   "cell_type": "code",
   "execution_count": 11,
   "id": "a56ded6b-dfc8-4f85-8854-c63792e5acbe",
   "metadata": {},
   "outputs": [],
   "source": [
    "from datetime import datetime"
   ]
  },
  {
   "cell_type": "code",
   "execution_count": 15,
   "id": "57df1e77-33fa-4158-8de4-2e9b315e21c3",
   "metadata": {},
   "outputs": [],
   "source": [
    "start = datetime(year=2021, month=1, day=1)"
   ]
  },
  {
   "cell_type": "code",
   "execution_count": 16,
   "id": "f1245cdb-c8de-4f0d-9c75-87f36ad53dc1",
   "metadata": {},
   "outputs": [
    {
     "name": "stderr",
     "output_type": "stream",
     "text": [
      "                                                                                \r"
     ]
    },
    {
     "data": {
      "text/plain": [
       "[Row(lpep_pickup_datetime=datetime.datetime(2021, 6, 18, 13, 31, 15), PULocationID=7, total_amount=3.3)]"
      ]
     },
     "execution_count": 16,
     "metadata": {},
     "output_type": "execute_result"
    }
   ],
   "source": [
    "rdd.filter(lambda row: row.lpep_pickup_datetime >= start).take(1)"
   ]
  },
  {
   "cell_type": "code",
   "execution_count": 17,
   "id": "8d55b354-d2fd-4db0-9248-7251a41fd9a9",
   "metadata": {},
   "outputs": [],
   "source": [
    "start = datetime(year=2021, month=1, day=1)\n",
    "\n",
    "def filter_outliers(row):\n",
    "    return row.lpep_pickup_datetime >= start"
   ]
  },
  {
   "cell_type": "code",
   "execution_count": 19,
   "id": "de43aaaf-e5d1-4ab3-bb4b-961b504449b5",
   "metadata": {},
   "outputs": [],
   "source": [
    "rows = rdd.take(10)\n",
    "row = rows[0]"
   ]
  },
  {
   "cell_type": "code",
   "execution_count": 21,
   "id": "f1355bfc-629d-4f9d-92c3-7ebc6657dc9b",
   "metadata": {},
   "outputs": [
    {
     "data": {
      "text/plain": [
       "datetime.datetime(2020, 1, 23, 13, 0)"
      ]
     },
     "execution_count": 21,
     "metadata": {},
     "output_type": "execute_result"
    }
   ],
   "source": [
    "row.lpep_pickup_datetime.replace(minute=0, second=0, microsecond=0)"
   ]
  },
  {
   "cell_type": "code",
   "execution_count": 22,
   "id": "4ae899f4-fc5d-4759-a95a-419e608cb2ea",
   "metadata": {},
   "outputs": [
    {
     "data": {
      "text/plain": [
       "Row(lpep_pickup_datetime=datetime.datetime(2020, 1, 23, 13, 10, 15), PULocationID=74, total_amount=44.97)"
      ]
     },
     "execution_count": 22,
     "metadata": {},
     "output_type": "execute_result"
    }
   ],
   "source": [
    "row"
   ]
  },
  {
   "cell_type": "code",
   "execution_count": 23,
   "id": "21eef1cc-4ea6-4cf2-9016-7a9b9ad44d83",
   "metadata": {},
   "outputs": [],
   "source": [
    "def prepare_for_grouping(row):\n",
    "    hour = row.lpep_pickup_datetime.replace(minute=0, second=0, microsecond=0)\n",
    "    zone = row.PULocationID\n",
    "    key = (hour, zone)\n",
    "\n",
    "    amount = row.total_amount\n",
    "    count = 1\n",
    "    value = (amount, count)\n",
    "\n",
    "    return (key, value)"
   ]
  },
  {
   "cell_type": "code",
   "execution_count": 24,
   "id": "79db379c-d31b-4b1a-b179-92e516cd5549",
   "metadata": {},
   "outputs": [
    {
     "name": "stderr",
     "output_type": "stream",
     "text": [
      "                                                                                \r"
     ]
    },
    {
     "data": {
      "text/plain": [
       "[((datetime.datetime(2021, 6, 18, 13, 0), 7), (3.3, 1)),\n",
       " ((datetime.datetime(2021, 6, 24, 22, 0), 41), (18.55, 1)),\n",
       " ((datetime.datetime(2021, 6, 29, 12, 0), 43), (7.55, 1)),\n",
       " ((datetime.datetime(2021, 6, 13, 11, 0), 134), (39.61, 1)),\n",
       " ((datetime.datetime(2021, 6, 27, 20, 0), 75), (19.3, 1)),\n",
       " ((datetime.datetime(2021, 6, 23, 19, 0), 22), (63.3, 1)),\n",
       " ((datetime.datetime(2021, 6, 12, 10, 0), 41), (16.31, 1)),\n",
       " ((datetime.datetime(2021, 6, 19, 15, 0), 41), (9.8, 1)),\n",
       " ((datetime.datetime(2021, 6, 12, 21, 0), 189), (26.83, 1)),\n",
       " ((datetime.datetime(2021, 6, 18, 19, 0), 41), (33.35, 1))]"
      ]
     },
     "execution_count": 24,
     "metadata": {},
     "output_type": "execute_result"
    }
   ],
   "source": [
    "rdd \\\n",
    "    .filter(filter_outliers) \\\n",
    "    .map(prepare_for_grouping) \\\n",
    "    .take(10)"
   ]
  },
  {
   "cell_type": "code",
   "execution_count": 27,
   "id": "d6f43004-c84b-4c2a-9767-651fbe5b1da8",
   "metadata": {},
   "outputs": [],
   "source": [
    "def calculate_revenue(left_value, right_value):\n",
    "    left_amount, left_count = left_value\n",
    "    right_amount, right_count = right_value\n",
    "\n",
    "    output_amount = left_amount + right_amount\n",
    "    output_count = left_count + right_count\n",
    "    \n",
    "    return (output_amount, output_count)"
   ]
  },
  {
   "cell_type": "code",
   "execution_count": 28,
   "id": "a9eba2f2-501c-4845-a814-59fa6d22247d",
   "metadata": {},
   "outputs": [
    {
     "name": "stderr",
     "output_type": "stream",
     "text": [
      "                                                                                \r"
     ]
    },
    {
     "data": {
      "text/plain": [
       "[((datetime.datetime(2021, 6, 29, 12, 0), 43), (63.55, 6)),\n",
       " ((datetime.datetime(2021, 6, 19, 15, 0), 41), (280.36, 16)),\n",
       " ((datetime.datetime(2021, 6, 23, 18, 0), 41), (228.83000000000004, 13)),\n",
       " ((datetime.datetime(2021, 6, 11, 14, 0), 167), (37.1, 2)),\n",
       " ((datetime.datetime(2021, 6, 14, 21, 0), 93), (140.39999999999998, 3)),\n",
       " ((datetime.datetime(2021, 6, 9, 13, 0), 159), (81.45, 4)),\n",
       " ((datetime.datetime(2021, 6, 28, 9, 0), 197), (54.8, 1)),\n",
       " ((datetime.datetime(2021, 6, 15, 14, 0), 37), (23.11, 1)),\n",
       " ((datetime.datetime(2021, 6, 1, 11, 0), 42), (83.4, 6)),\n",
       " ((datetime.datetime(2021, 6, 11, 16, 0), 95), (185.06, 12))]"
      ]
     },
     "execution_count": 28,
     "metadata": {},
     "output_type": "execute_result"
    }
   ],
   "source": [
    "rdd \\\n",
    "    .filter(filter_outliers) \\\n",
    "    .map(prepare_for_grouping) \\\n",
    "    .reduceByKey(calculate_revenue) \\\n",
    "    .take(10)"
   ]
  },
  {
   "cell_type": "code",
   "execution_count": 29,
   "id": "0b71adac-b42d-463c-9157-95062c53f3ff",
   "metadata": {},
   "outputs": [],
   "source": [
    "def unwrap(row):\n",
    "    return(row[0][0], row[0][1], row[1][0], row[1][1])"
   ]
  },
  {
   "cell_type": "code",
   "execution_count": 30,
   "id": "d6642c5f-b677-4f85-a56f-f63af69815fd",
   "metadata": {},
   "outputs": [
    {
     "name": "stderr",
     "output_type": "stream",
     "text": [
      "                                                                                \r"
     ]
    },
    {
     "data": {
      "text/plain": [
       "[(datetime.datetime(2021, 6, 29, 12, 0), 43, 63.55, 6),\n",
       " (datetime.datetime(2021, 6, 19, 15, 0), 41, 280.36, 16),\n",
       " (datetime.datetime(2021, 6, 23, 18, 0), 41, 228.83000000000004, 13),\n",
       " (datetime.datetime(2021, 6, 11, 14, 0), 167, 37.1, 2),\n",
       " (datetime.datetime(2021, 6, 14, 21, 0), 93, 140.39999999999998, 3),\n",
       " (datetime.datetime(2021, 6, 9, 13, 0), 159, 81.45, 4),\n",
       " (datetime.datetime(2021, 6, 28, 9, 0), 197, 54.8, 1),\n",
       " (datetime.datetime(2021, 6, 15, 14, 0), 37, 23.11, 1),\n",
       " (datetime.datetime(2021, 6, 1, 11, 0), 42, 83.4, 6),\n",
       " (datetime.datetime(2021, 6, 11, 16, 0), 95, 185.06, 12)]"
      ]
     },
     "execution_count": 30,
     "metadata": {},
     "output_type": "execute_result"
    }
   ],
   "source": [
    "rdd \\\n",
    "    .filter(filter_outliers) \\\n",
    "    .map(prepare_for_grouping) \\\n",
    "    .reduceByKey(calculate_revenue) \\\n",
    "    .map(unwrap) \\\n",
    "    .take(10)"
   ]
  },
  {
   "cell_type": "code",
   "execution_count": 32,
   "id": "64d7108a-d119-4a42-a781-ac2cb07de53a",
   "metadata": {},
   "outputs": [
    {
     "name": "stderr",
     "output_type": "stream",
     "text": [
      "                                                                                \r"
     ]
    },
    {
     "name": "stdout",
     "output_type": "stream",
     "text": [
      "+-------------------+---+------------------+---+\n",
      "|                 _1| _2|                _3| _4|\n",
      "+-------------------+---+------------------+---+\n",
      "|2021-06-29 12:00:00| 43|             63.55|  6|\n",
      "|2021-06-19 15:00:00| 41|            280.36| 16|\n",
      "|2021-06-23 18:00:00| 41|228.83000000000004| 13|\n",
      "|2021-06-11 14:00:00|167|              37.1|  2|\n",
      "|2021-06-14 21:00:00| 93|140.39999999999998|  3|\n",
      "|2021-06-09 13:00:00|159|             81.45|  4|\n",
      "|2021-06-28 09:00:00|197|              54.8|  1|\n",
      "|2021-06-15 14:00:00| 37|             23.11|  1|\n",
      "|2021-06-01 11:00:00| 42|              83.4|  6|\n",
      "|2021-06-11 16:00:00| 95|            185.06| 12|\n",
      "|2021-06-21 18:00:00|181|             14.44|  1|\n",
      "|2021-06-22 15:00:00|134|             59.62|  4|\n",
      "|2021-06-29 13:00:00|145|             27.85|  1|\n",
      "|2021-06-23 18:00:00|193|             22.47|  2|\n",
      "|2021-06-22 06:00:00| 11|              10.3|  1|\n",
      "|2021-06-10 21:00:00| 42|              91.0|  5|\n",
      "|2021-06-02 14:00:00|119|             70.89|  4|\n",
      "|2021-06-11 08:00:00|166|107.53000000000002|  5|\n",
      "|2021-06-27 14:00:00|150|             39.21|  1|\n",
      "|2021-06-22 05:00:00|238|             44.32|  1|\n",
      "+-------------------+---+------------------+---+\n",
      "only showing top 20 rows\n",
      "\n"
     ]
    }
   ],
   "source": [
    "rdd \\\n",
    "    .filter(filter_outliers) \\\n",
    "    .map(prepare_for_grouping) \\\n",
    "    .reduceByKey(calculate_revenue) \\\n",
    "    .map(unwrap) \\\n",
    "    .toDF() \\\n",
    "    .show()"
   ]
  },
  {
   "cell_type": "code",
   "execution_count": 33,
   "id": "cfaaabc9-1203-41fa-a313-95bb501a137b",
   "metadata": {},
   "outputs": [],
   "source": [
    "from collections import namedtuple"
   ]
  },
  {
   "cell_type": "code",
   "execution_count": 34,
   "id": "10259c5b-4a41-4832-bc46-4d54f42b2dec",
   "metadata": {},
   "outputs": [],
   "source": [
    "RevenueRow = namedtuple('RevenueRow', ['hour', 'zone', 'revenue', 'count'])"
   ]
  },
  {
   "cell_type": "code",
   "execution_count": 35,
   "id": "e1b8b650-7ba0-40cc-bab0-c74f103d6b09",
   "metadata": {},
   "outputs": [],
   "source": [
    "def unwrap(row):\n",
    "    return RevenueRow(\n",
    "                    hour = row[0][0],\n",
    "                    zone = row[0][1],\n",
    "                    revenue = row[1][0],\n",
    "                    count = row[1][1]\n",
    "            )"
   ]
  },
  {
   "cell_type": "code",
   "execution_count": 36,
   "id": "85efc2a6-69aa-40f7-9113-56ef07507c68",
   "metadata": {},
   "outputs": [
    {
     "name": "stderr",
     "output_type": "stream",
     "text": [
      "                                                                                \r"
     ]
    },
    {
     "name": "stdout",
     "output_type": "stream",
     "text": [
      "+-------------------+----+------------------+-----+\n",
      "|               hour|zone|           revenue|count|\n",
      "+-------------------+----+------------------+-----+\n",
      "|2021-06-29 12:00:00|  43|             63.55|    6|\n",
      "|2021-06-19 15:00:00|  41|            280.36|   16|\n",
      "|2021-06-23 18:00:00|  41|228.83000000000004|   13|\n",
      "|2021-06-11 14:00:00| 167|              37.1|    2|\n",
      "|2021-06-14 21:00:00|  93|140.39999999999998|    3|\n",
      "|2021-06-09 13:00:00| 159|             81.45|    4|\n",
      "|2021-06-28 09:00:00| 197|              54.8|    1|\n",
      "|2021-06-15 14:00:00|  37|             23.11|    1|\n",
      "|2021-06-01 11:00:00|  42|              83.4|    6|\n",
      "|2021-06-11 16:00:00|  95|            185.06|   12|\n",
      "|2021-06-21 18:00:00| 181|             14.44|    1|\n",
      "|2021-06-22 15:00:00| 134|             59.62|    4|\n",
      "|2021-06-29 13:00:00| 145|             27.85|    1|\n",
      "|2021-06-23 18:00:00| 193|             22.47|    2|\n",
      "|2021-06-22 06:00:00|  11|              10.3|    1|\n",
      "|2021-06-10 21:00:00|  42|              91.0|    5|\n",
      "|2021-06-02 14:00:00| 119|             70.89|    4|\n",
      "|2021-06-11 08:00:00| 166|107.53000000000002|    5|\n",
      "|2021-06-27 14:00:00| 150|             39.21|    1|\n",
      "|2021-06-22 05:00:00| 238|             44.32|    1|\n",
      "+-------------------+----+------------------+-----+\n",
      "only showing top 20 rows\n",
      "\n"
     ]
    }
   ],
   "source": [
    "rdd \\\n",
    "    .filter(filter_outliers) \\\n",
    "    .map(prepare_for_grouping) \\\n",
    "    .reduceByKey(calculate_revenue) \\\n",
    "    .map(unwrap) \\\n",
    "    .toDF() \\\n",
    "    .show()"
   ]
  },
  {
   "cell_type": "code",
   "execution_count": 39,
   "id": "82ddcdb9-664a-4ed9-83c9-369e6c30837f",
   "metadata": {},
   "outputs": [
    {
     "name": "stderr",
     "output_type": "stream",
     "text": [
      "                                                                                \r"
     ]
    }
   ],
   "source": [
    "df_result = \\\n",
    "    rdd \\\n",
    "    .filter(filter_outliers) \\\n",
    "    .map(prepare_for_grouping) \\\n",
    "    .reduceByKey(calculate_revenue) \\\n",
    "    .map(unwrap) \\\n",
    "    .toDF() "
   ]
  },
  {
   "cell_type": "code",
   "execution_count": 40,
   "id": "ee27c91d-3e8a-4646-b628-3ee1a4574329",
   "metadata": {},
   "outputs": [
    {
     "data": {
      "text/plain": [
       "StructType([StructField('hour', TimestampType(), True), StructField('zone', LongType(), True), StructField('revenue', DoubleType(), True), StructField('count', LongType(), True)])"
      ]
     },
     "execution_count": 40,
     "metadata": {},
     "output_type": "execute_result"
    }
   ],
   "source": [
    "df_result.schema"
   ]
  },
  {
   "cell_type": "code",
   "execution_count": 43,
   "id": "12c0c3fc-788e-42b0-84d4-c4a8550ba488",
   "metadata": {},
   "outputs": [],
   "source": [
    "result_schema = \\\n",
    "            types.StructType([\n",
    "                types.StructField('hour', types.TimestampType(), True), \n",
    "                types.StructField('zone', types.IntegerType(), True), \n",
    "                types.StructField('revenue', types.DoubleType(), True), \n",
    "                types.StructField('count', types.IntegerType(), True)\n",
    "                ])"
   ]
  },
  {
   "cell_type": "code",
   "execution_count": 44,
   "id": "d59e3147-7245-4866-94fb-99f3f40690e6",
   "metadata": {},
   "outputs": [],
   "source": [
    "df_result = \\\n",
    "    rdd \\\n",
    "    .filter(filter_outliers) \\\n",
    "    .map(prepare_for_grouping) \\\n",
    "    .reduceByKey(calculate_revenue) \\\n",
    "    .map(unwrap) \\\n",
    "    .toDF(result_schema) "
   ]
  },
  {
   "cell_type": "code",
   "execution_count": 45,
   "id": "c3bcde4d-ce7b-4dca-a7aa-611953f581eb",
   "metadata": {},
   "outputs": [
    {
     "name": "stderr",
     "output_type": "stream",
     "text": [
      "[Stage 36:===========================================>              (3 + 1) / 4]\r"
     ]
    },
    {
     "name": "stdout",
     "output_type": "stream",
     "text": [
      "+-------------------+----+------------------+-----+\n",
      "|               hour|zone|           revenue|count|\n",
      "+-------------------+----+------------------+-----+\n",
      "|2021-06-29 12:00:00|  43|             63.55|    6|\n",
      "|2021-06-19 15:00:00|  41|            280.36|   16|\n",
      "|2021-06-23 18:00:00|  41|228.83000000000004|   13|\n",
      "|2021-06-11 14:00:00| 167|              37.1|    2|\n",
      "|2021-06-14 21:00:00|  93|140.39999999999998|    3|\n",
      "|2021-06-09 13:00:00| 159|             81.45|    4|\n",
      "|2021-06-28 09:00:00| 197|              54.8|    1|\n",
      "|2021-06-15 14:00:00|  37|             23.11|    1|\n",
      "|2021-06-01 11:00:00|  42|              83.4|    6|\n",
      "|2021-06-11 16:00:00|  95|            185.06|   12|\n",
      "|2021-06-21 18:00:00| 181|             14.44|    1|\n",
      "|2021-06-22 15:00:00| 134|             59.62|    4|\n",
      "|2021-06-29 13:00:00| 145|             27.85|    1|\n",
      "|2021-06-23 18:00:00| 193|             22.47|    2|\n",
      "|2021-06-22 06:00:00|  11|              10.3|    1|\n",
      "|2021-06-10 21:00:00|  42|              91.0|    5|\n",
      "|2021-06-02 14:00:00| 119|             70.89|    4|\n",
      "|2021-06-11 08:00:00| 166|107.53000000000002|    5|\n",
      "|2021-06-27 14:00:00| 150|             39.21|    1|\n",
      "|2021-06-22 05:00:00| 238|             44.32|    1|\n",
      "+-------------------+----+------------------+-----+\n",
      "only showing top 20 rows\n",
      "\n"
     ]
    },
    {
     "name": "stderr",
     "output_type": "stream",
     "text": [
      "                                                                                \r"
     ]
    }
   ],
   "source": [
    "df_result.show()"
   ]
  },
  {
   "cell_type": "code",
   "execution_count": 46,
   "id": "7dfc8c69-8dac-43f8-ae04-1adcee5b5859",
   "metadata": {},
   "outputs": [
    {
     "name": "stderr",
     "output_type": "stream",
     "text": [
      "                                                                                \r"
     ]
    }
   ],
   "source": [
    "df_result.write.parquet('tmp/green-revenue')"
   ]
  },
  {
   "cell_type": "code",
   "execution_count": null,
   "id": "bb8e5c19-7308-4099-af76-9f50e1366c54",
   "metadata": {},
   "outputs": [],
   "source": [
    "\"\"\" \n",
    "select\n",
    "    date_trunc('hour', lpep_pickup_datetime)  as hour,\n",
    "    PULocationID as zones,\n",
    "    sum(total_amount) as revenue_monthly_total_amount,\n",
    "    count(*) as number_records\n",
    "from green_trips\n",
    "where lpep_pickup_datetime >= '2020-01-01 00:00:00'\n",
    "and lpep_pickup_datetime is not null\n",
    "group by 1, 2\n",
    "\n",
    ";\n",
    "\"\"\""
   ]
  },
  {
   "cell_type": "code",
   "execution_count": null,
   "id": "2eb2dd38-72ca-4009-9f96-b9d9e0bd9990",
   "metadata": {},
   "outputs": [],
   "source": [
    "## map partition"
   ]
  },
  {
   "cell_type": "code",
   "execution_count": 49,
   "id": "3f641ea5-995b-44ad-a163-a88de4e7b39e",
   "metadata": {},
   "outputs": [
    {
     "name": "stdout",
     "output_type": "stream",
     "text": [
      "+--------+--------------------+---------------------+------------------+----------+------------+------------+---------------+-------------+-----------+-----+-------+----------+------------+---------+---------------------+------------+------------+---------+--------------------+\n",
      "|VendorID|lpep_pickup_datetime|lpep_dropoff_datetime|store_and_fwd_flag|RatecodeID|PULocationID|DOLocationID|passenger_count|trip_distance|fare_amount|extra|mta_tax|tip_amount|tolls_amount|ehail_fee|improvement_surcharge|total_amount|payment_type|trip_type|congestion_surcharge|\n",
      "+--------+--------------------+---------------------+------------------+----------+------------+------------+---------------+-------------+-----------+-----+-------+----------+------------+---------+---------------------+------------+------------+---------+--------------------+\n",
      "|       2| 2020-01-23 13:10:15|  2020-01-23 13:38:16|                 N|         1|          74|         130|              1|        12.77|       36.0|  0.0|    0.5|      2.05|        6.12|     null|                  0.3|       44.97|           1|        1|                 0.0|\n",
      "|    null| 2020-01-20 15:09:00|  2020-01-20 15:46:00|              null|      null|          67|          39|           null|          8.0|       29.9| 2.75|    0.5|       0.0|         0.0|     null|                  0.3|       33.45|        null|     null|                null|\n",
      "|       2| 2020-01-15 20:23:41|  2020-01-15 20:31:18|                 N|         1|         260|         157|              1|         1.27|        7.0|  0.5|    0.5|       0.0|         0.0|     null|                  0.3|         8.3|           2|        1|                 0.0|\n",
      "|       2| 2020-01-05 16:32:26|  2020-01-05 16:40:51|                 N|         1|          82|          83|              1|         1.25|        7.5|  0.0|    0.5|       0.0|         0.0|     null|                  0.3|         8.3|           2|        1|                 0.0|\n",
      "|       2| 2020-01-29 19:22:42|  2020-01-29 19:31:02|                 N|         1|         166|          42|              1|         1.84|        8.0|  1.0|    0.5|      2.94|         0.0|     null|                  0.3|       12.74|           1|        1|                 0.0|\n",
      "+--------+--------------------+---------------------+------------------+----------+------------+------------+---------------+-------------+-----------+-----+-------+----------+------------+---------+---------------------+------------+------------+---------+--------------------+\n",
      "only showing top 5 rows\n",
      "\n"
     ]
    }
   ],
   "source": [
    "df_green.show(5)"
   ]
  },
  {
   "cell_type": "code",
   "execution_count": 51,
   "id": "84871b42-56f3-4ac2-8729-274c85dd900f",
   "metadata": {},
   "outputs": [
    {
     "name": "stdout",
     "output_type": "stream",
     "text": [
      "+--------+--------------------+------------+------------+-------------+\n",
      "|VendorID|lpep_pickup_datetime|PULocationID|PULocationID|trip_distance|\n",
      "+--------+--------------------+------------+------------+-------------+\n",
      "|       2| 2020-01-23 13:10:15|          74|          74|        12.77|\n",
      "|    null| 2020-01-20 15:09:00|          67|          67|          8.0|\n",
      "|       2| 2020-01-15 20:23:41|         260|         260|         1.27|\n",
      "|       2| 2020-01-05 16:32:26|          82|          82|         1.25|\n",
      "|       2| 2020-01-29 19:22:42|         166|         166|         1.84|\n",
      "|       2| 2020-01-15 11:07:42|         179|         179|         0.76|\n",
      "|       2| 2020-01-16 08:22:29|          41|          41|         3.32|\n",
      "|       2| 2020-01-28 17:05:28|          75|          75|         2.21|\n",
      "|       1| 2020-01-22 14:51:37|         152|         152|          0.9|\n",
      "|       2| 2020-01-31 10:25:04|          75|          75|          6.1|\n",
      "|       2| 2020-01-20 15:50:54|          75|          75|         1.74|\n",
      "|       2| 2020-01-31 11:35:17|         260|         260|         1.18|\n",
      "|       1| 2020-01-04 20:44:28|         129|         129|          2.2|\n",
      "|       2| 2020-01-17 21:47:52|          74|          74|         3.04|\n",
      "|       2| 2020-01-21 23:13:47|          61|          61|         0.85|\n",
      "|       2| 2020-01-02 08:11:21|          66|          66|         5.06|\n",
      "|       2| 2020-01-27 02:59:20|           7|           7|         1.57|\n",
      "|       2| 2020-01-16 14:39:13|          74|          74|          6.8|\n",
      "|       2| 2020-01-16 18:42:24|          66|          66|         1.06|\n",
      "|       2| 2020-01-03 09:24:54|          61|          61|         1.23|\n",
      "+--------+--------------------+------------+------------+-------------+\n",
      "only showing top 20 rows\n",
      "\n"
     ]
    }
   ],
   "source": [
    "columns = ['VendorID', 'lpep_pickup_datetime', 'PULocationID', 'PULocationID', 'trip_distance']\n",
    "\n",
    "df_green \\\n",
    "    .select(columns) \\\n",
    "    .show()"
   ]
  },
  {
   "cell_type": "code",
   "execution_count": 52,
   "id": "c51a98e3-5ec0-4cf5-81a5-31b421f9b0e4",
   "metadata": {},
   "outputs": [],
   "source": [
    "columns = ['VendorID', 'lpep_pickup_datetime', 'PULocationID', 'PULocationID', 'trip_distance']\n",
    "\n",
    "duration_rdd = \\\n",
    "    df_green \\\n",
    "    .select(columns) \\\n",
    "    .rdd"
   ]
  },
  {
   "cell_type": "code",
   "execution_count": 53,
   "id": "c97defa6-2104-4cb8-b7d5-e426eb408377",
   "metadata": {},
   "outputs": [
    {
     "data": {
      "text/plain": [
       "[Row(VendorID=2, lpep_pickup_datetime=datetime.datetime(2020, 1, 23, 13, 10, 15), PULocationID=74, PULocationID=74, trip_distance=12.77),\n",
       " Row(VendorID=None, lpep_pickup_datetime=datetime.datetime(2020, 1, 20, 15, 9), PULocationID=67, PULocationID=67, trip_distance=8.0),\n",
       " Row(VendorID=2, lpep_pickup_datetime=datetime.datetime(2020, 1, 15, 20, 23, 41), PULocationID=260, PULocationID=260, trip_distance=1.27),\n",
       " Row(VendorID=2, lpep_pickup_datetime=datetime.datetime(2020, 1, 5, 16, 32, 26), PULocationID=82, PULocationID=82, trip_distance=1.25),\n",
       " Row(VendorID=2, lpep_pickup_datetime=datetime.datetime(2020, 1, 29, 19, 22, 42), PULocationID=166, PULocationID=166, trip_distance=1.84)]"
      ]
     },
     "execution_count": 53,
     "metadata": {},
     "output_type": "execute_result"
    }
   ],
   "source": [
    "duration_rdd.take(5)"
   ]
  },
  {
   "cell_type": "code",
   "execution_count": 54,
   "id": "1126711a-b875-4b10-b702-bfff51c4700f",
   "metadata": {},
   "outputs": [],
   "source": [
    "def apply_model_in_batch(partition):\n",
    "    return [1]"
   ]
  },
  {
   "cell_type": "code",
   "execution_count": 55,
   "id": "294a2b6d-8206-4793-85ea-5d7da320442a",
   "metadata": {},
   "outputs": [
    {
     "data": {
      "text/plain": [
       "[1, 1, 1, 1]"
      ]
     },
     "execution_count": 55,
     "metadata": {},
     "output_type": "execute_result"
    }
   ],
   "source": [
    "rdd.mapPartitions(apply_model_in_batch).collect()"
   ]
  },
  {
   "cell_type": "code",
   "execution_count": 56,
   "id": "510bd503-81b8-4abe-b3f5-0fe9e8b70f86",
   "metadata": {},
   "outputs": [],
   "source": [
    "def apply_model_in_batch(partition):\n",
    "    cnt =0\n",
    "    for row in partition:\n",
    "        cnt = cnt + 1\n",
    "    return [cnt]"
   ]
  },
  {
   "cell_type": "code",
   "execution_count": 57,
   "id": "7a45f3aa-a084-45c4-ad7d-8ffd0f937440",
   "metadata": {},
   "outputs": [
    {
     "name": "stderr",
     "output_type": "stream",
     "text": [
      "                                                                                \r"
     ]
    },
    {
     "data": {
      "text/plain": [
       "[1141148, 438057, 432402, 292910]"
      ]
     },
     "execution_count": 57,
     "metadata": {},
     "output_type": "execute_result"
    }
   ],
   "source": [
    "rdd.mapPartitions(apply_model_in_batch).collect()"
   ]
  },
  {
   "cell_type": "code",
   "execution_count": 58,
   "id": "c48e2b7b-3996-40d9-8c25-852ea88e0148",
   "metadata": {},
   "outputs": [],
   "source": [
    "rows = duration_rdd.take(10)"
   ]
  },
  {
   "cell_type": "code",
   "execution_count": 60,
   "id": "0d826223-92bb-4cec-9f2b-93a3d19b5ef2",
   "metadata": {},
   "outputs": [
    {
     "data": {
      "text/html": [
       "<div>\n",
       "<style scoped>\n",
       "    .dataframe tbody tr th:only-of-type {\n",
       "        vertical-align: middle;\n",
       "    }\n",
       "\n",
       "    .dataframe tbody tr th {\n",
       "        vertical-align: top;\n",
       "    }\n",
       "\n",
       "    .dataframe thead th {\n",
       "        text-align: right;\n",
       "    }\n",
       "</style>\n",
       "<table border=\"1\" class=\"dataframe\">\n",
       "  <thead>\n",
       "    <tr style=\"text-align: right;\">\n",
       "      <th></th>\n",
       "      <th>VendorID</th>\n",
       "      <th>lpep_pickup_datetime</th>\n",
       "      <th>PULocationID</th>\n",
       "      <th>PULocationID</th>\n",
       "      <th>trip_distance</th>\n",
       "    </tr>\n",
       "  </thead>\n",
       "  <tbody>\n",
       "    <tr>\n",
       "      <th>0</th>\n",
       "      <td>2.0</td>\n",
       "      <td>2020-01-23 13:10:15</td>\n",
       "      <td>74</td>\n",
       "      <td>74</td>\n",
       "      <td>12.77</td>\n",
       "    </tr>\n",
       "    <tr>\n",
       "      <th>1</th>\n",
       "      <td>NaN</td>\n",
       "      <td>2020-01-20 15:09:00</td>\n",
       "      <td>67</td>\n",
       "      <td>67</td>\n",
       "      <td>8.00</td>\n",
       "    </tr>\n",
       "    <tr>\n",
       "      <th>2</th>\n",
       "      <td>2.0</td>\n",
       "      <td>2020-01-15 20:23:41</td>\n",
       "      <td>260</td>\n",
       "      <td>260</td>\n",
       "      <td>1.27</td>\n",
       "    </tr>\n",
       "    <tr>\n",
       "      <th>3</th>\n",
       "      <td>2.0</td>\n",
       "      <td>2020-01-05 16:32:26</td>\n",
       "      <td>82</td>\n",
       "      <td>82</td>\n",
       "      <td>1.25</td>\n",
       "    </tr>\n",
       "    <tr>\n",
       "      <th>4</th>\n",
       "      <td>2.0</td>\n",
       "      <td>2020-01-29 19:22:42</td>\n",
       "      <td>166</td>\n",
       "      <td>166</td>\n",
       "      <td>1.84</td>\n",
       "    </tr>\n",
       "    <tr>\n",
       "      <th>5</th>\n",
       "      <td>2.0</td>\n",
       "      <td>2020-01-15 11:07:42</td>\n",
       "      <td>179</td>\n",
       "      <td>179</td>\n",
       "      <td>0.76</td>\n",
       "    </tr>\n",
       "    <tr>\n",
       "      <th>6</th>\n",
       "      <td>2.0</td>\n",
       "      <td>2020-01-16 08:22:29</td>\n",
       "      <td>41</td>\n",
       "      <td>41</td>\n",
       "      <td>3.32</td>\n",
       "    </tr>\n",
       "    <tr>\n",
       "      <th>7</th>\n",
       "      <td>2.0</td>\n",
       "      <td>2020-01-28 17:05:28</td>\n",
       "      <td>75</td>\n",
       "      <td>75</td>\n",
       "      <td>2.21</td>\n",
       "    </tr>\n",
       "    <tr>\n",
       "      <th>8</th>\n",
       "      <td>1.0</td>\n",
       "      <td>2020-01-22 14:51:37</td>\n",
       "      <td>152</td>\n",
       "      <td>152</td>\n",
       "      <td>0.90</td>\n",
       "    </tr>\n",
       "    <tr>\n",
       "      <th>9</th>\n",
       "      <td>2.0</td>\n",
       "      <td>2020-01-31 10:25:04</td>\n",
       "      <td>75</td>\n",
       "      <td>75</td>\n",
       "      <td>6.10</td>\n",
       "    </tr>\n",
       "  </tbody>\n",
       "</table>\n",
       "</div>"
      ],
      "text/plain": [
       "   VendorID lpep_pickup_datetime  PULocationID  PULocationID  trip_distance\n",
       "0       2.0  2020-01-23 13:10:15            74            74          12.77\n",
       "1       NaN  2020-01-20 15:09:00            67            67           8.00\n",
       "2       2.0  2020-01-15 20:23:41           260           260           1.27\n",
       "3       2.0  2020-01-05 16:32:26            82            82           1.25\n",
       "4       2.0  2020-01-29 19:22:42           166           166           1.84\n",
       "5       2.0  2020-01-15 11:07:42           179           179           0.76\n",
       "6       2.0  2020-01-16 08:22:29            41            41           3.32\n",
       "7       2.0  2020-01-28 17:05:28            75            75           2.21\n",
       "8       1.0  2020-01-22 14:51:37           152           152           0.90\n",
       "9       2.0  2020-01-31 10:25:04            75            75           6.10"
      ]
     },
     "execution_count": 60,
     "metadata": {},
     "output_type": "execute_result"
    }
   ],
   "source": [
    "pd.DataFrame(rows, columns=columns)"
   ]
  },
  {
   "cell_type": "code",
   "execution_count": 63,
   "id": "5c02a263-851d-4fff-a478-251f0868218e",
   "metadata": {},
   "outputs": [],
   "source": [
    "def apply_model_in_batch(rows):\n",
    "    df = pd.DataFrame(rows, columns=columns)\n",
    "    cnt = len(df)\n",
    "    return [cnt]"
   ]
  },
  {
   "cell_type": "code",
   "execution_count": 64,
   "id": "57aa53aa-a1f7-4ffc-8445-bddfb6d4b380",
   "metadata": {},
   "outputs": [
    {
     "name": "stderr",
     "output_type": "stream",
     "text": [
      "                                                                                \r"
     ]
    },
    {
     "data": {
      "text/plain": [
       "[1141148, 438057, 432402, 292910]"
      ]
     },
     "execution_count": 64,
     "metadata": {},
     "output_type": "execute_result"
    }
   ],
   "source": [
    "duration_rdd.mapPartitions(apply_model_in_batch).collect()"
   ]
  },
  {
   "cell_type": "code",
   "execution_count": 65,
   "id": "ccfd710b-6d95-4713-b5dc-74c5b24a3a8b",
   "metadata": {},
   "outputs": [],
   "source": [
    "# mode = ... \n",
    "\n",
    "def model_predict(df):\n",
    "    # y_pred = model.predit(df)\n",
    "    y_pred = df.trip_distance * 5\n",
    "    return y_pred"
   ]
  },
  {
   "cell_type": "code",
   "execution_count": 68,
   "id": "e919b226-fc2f-4526-aaa5-8c05eac3415d",
   "metadata": {},
   "outputs": [],
   "source": [
    "## segway \n",
    "df = pd.DataFrame(rows, columns=columns)"
   ]
  },
  {
   "cell_type": "code",
   "execution_count": 69,
   "id": "69ab6b3c-af12-4caa-997b-b65a28e04174",
   "metadata": {},
   "outputs": [
    {
     "data": {
      "text/plain": [
       "[Pandas(Index=0, VendorID=2.0, lpep_pickup_datetime=Timestamp('2020-01-23 13:10:15'), PULocationID=74, _4=74, trip_distance=12.77),\n",
       " Pandas(Index=1, VendorID=nan, lpep_pickup_datetime=Timestamp('2020-01-20 15:09:00'), PULocationID=67, _4=67, trip_distance=8.0),\n",
       " Pandas(Index=2, VendorID=2.0, lpep_pickup_datetime=Timestamp('2020-01-15 20:23:41'), PULocationID=260, _4=260, trip_distance=1.27),\n",
       " Pandas(Index=3, VendorID=2.0, lpep_pickup_datetime=Timestamp('2020-01-05 16:32:26'), PULocationID=82, _4=82, trip_distance=1.25),\n",
       " Pandas(Index=4, VendorID=2.0, lpep_pickup_datetime=Timestamp('2020-01-29 19:22:42'), PULocationID=166, _4=166, trip_distance=1.84),\n",
       " Pandas(Index=5, VendorID=2.0, lpep_pickup_datetime=Timestamp('2020-01-15 11:07:42'), PULocationID=179, _4=179, trip_distance=0.76),\n",
       " Pandas(Index=6, VendorID=2.0, lpep_pickup_datetime=Timestamp('2020-01-16 08:22:29'), PULocationID=41, _4=41, trip_distance=3.32),\n",
       " Pandas(Index=7, VendorID=2.0, lpep_pickup_datetime=Timestamp('2020-01-28 17:05:28'), PULocationID=75, _4=75, trip_distance=2.21),\n",
       " Pandas(Index=8, VendorID=1.0, lpep_pickup_datetime=Timestamp('2020-01-22 14:51:37'), PULocationID=152, _4=152, trip_distance=0.9),\n",
       " Pandas(Index=9, VendorID=2.0, lpep_pickup_datetime=Timestamp('2020-01-31 10:25:04'), PULocationID=75, _4=75, trip_distance=6.1)]"
      ]
     },
     "execution_count": 69,
     "metadata": {},
     "output_type": "execute_result"
    }
   ],
   "source": [
    "list(df.itertuples())"
   ]
  },
  {
   "cell_type": "code",
   "execution_count": 74,
   "id": "443e69f5-7dbf-44ba-bafc-650ab08ef3bf",
   "metadata": {},
   "outputs": [],
   "source": [
    "def apply_model_in_batch(rows):\n",
    "    df = pd.DataFrame(rows, columns=columns)\n",
    "    df['lpep_pickup_datetime'] = df['lpep_pickup_datetime'].astype(str)\n",
    "    predictions = model_predict(df)\n",
    "    df['predicted_duration'] = predictions\n",
    "\n",
    "    for row in df.itertuples():\n",
    "        yield row"
   ]
  },
  {
   "cell_type": "code",
   "execution_count": 75,
   "id": "bcc7bce9-fe6e-4442-aeb4-598eaffb6f4b",
   "metadata": {},
   "outputs": [
    {
     "name": "stderr",
     "output_type": "stream",
     "text": [
      "                                                                                \r"
     ]
    },
    {
     "data": {
      "text/plain": [
       "[Pandas(Index=0, VendorID=2.0, lpep_pickup_datetime='2020-01-23 13:10:15', PULocationID=74, _4=74, trip_distance=12.77, predicted_duration=63.849999999999994),\n",
       " Pandas(Index=1, VendorID=nan, lpep_pickup_datetime='2020-01-20 15:09:00', PULocationID=67, _4=67, trip_distance=8.0, predicted_duration=40.0),\n",
       " Pandas(Index=2, VendorID=2.0, lpep_pickup_datetime='2020-01-15 20:23:41', PULocationID=260, _4=260, trip_distance=1.27, predicted_duration=6.35),\n",
       " Pandas(Index=3, VendorID=2.0, lpep_pickup_datetime='2020-01-05 16:32:26', PULocationID=82, _4=82, trip_distance=1.25, predicted_duration=6.25),\n",
       " Pandas(Index=4, VendorID=2.0, lpep_pickup_datetime='2020-01-29 19:22:42', PULocationID=166, _4=166, trip_distance=1.84, predicted_duration=9.200000000000001),\n",
       " Pandas(Index=5, VendorID=2.0, lpep_pickup_datetime='2020-01-15 11:07:42', PULocationID=179, _4=179, trip_distance=0.76, predicted_duration=3.8),\n",
       " Pandas(Index=6, VendorID=2.0, lpep_pickup_datetime='2020-01-16 08:22:29', PULocationID=41, _4=41, trip_distance=3.32, predicted_duration=16.599999999999998),\n",
       " Pandas(Index=7, VendorID=2.0, lpep_pickup_datetime='2020-01-28 17:05:28', PULocationID=75, _4=75, trip_distance=2.21, predicted_duration=11.05),\n",
       " Pandas(Index=8, VendorID=1.0, lpep_pickup_datetime='2020-01-22 14:51:37', PULocationID=152, _4=152, trip_distance=0.9, predicted_duration=4.5),\n",
       " Pandas(Index=9, VendorID=2.0, lpep_pickup_datetime='2020-01-31 10:25:04', PULocationID=75, _4=75, trip_distance=6.1, predicted_duration=30.5)]"
      ]
     },
     "execution_count": 75,
     "metadata": {},
     "output_type": "execute_result"
    }
   ],
   "source": [
    "duration_rdd.mapPartitions(apply_model_in_batch).take(10)"
   ]
  },
  {
   "cell_type": "code",
   "execution_count": 76,
   "id": "06e7e914-8fc9-4112-9c24-e5e8cf390a38",
   "metadata": {},
   "outputs": [
    {
     "name": "stderr",
     "output_type": "stream",
     "text": [
      "[Stage 55:>                                                         (0 + 1) / 1]\r"
     ]
    },
    {
     "name": "stdout",
     "output_type": "stream",
     "text": [
      "+-----+--------+--------------------+------------+---+-------------+------------------+\n",
      "|Index|VendorID|lpep_pickup_datetime|PULocationID| _4|trip_distance|predicted_duration|\n",
      "+-----+--------+--------------------+------------+---+-------------+------------------+\n",
      "|    0|     2.0| 2020-01-23 13:10:15|          74| 74|        12.77|63.849999999999994|\n",
      "|    1|     NaN| 2020-01-20 15:09:00|          67| 67|          8.0|              40.0|\n",
      "|    2|     2.0| 2020-01-15 20:23:41|         260|260|         1.27|              6.35|\n",
      "|    3|     2.0| 2020-01-05 16:32:26|          82| 82|         1.25|              6.25|\n",
      "|    4|     2.0| 2020-01-29 19:22:42|         166|166|         1.84| 9.200000000000001|\n",
      "|    5|     2.0| 2020-01-15 11:07:42|         179|179|         0.76|               3.8|\n",
      "|    6|     2.0| 2020-01-16 08:22:29|          41| 41|         3.32|16.599999999999998|\n",
      "|    7|     2.0| 2020-01-28 17:05:28|          75| 75|         2.21|             11.05|\n",
      "|    8|     1.0| 2020-01-22 14:51:37|         152|152|          0.9|               4.5|\n",
      "|    9|     2.0| 2020-01-31 10:25:04|          75| 75|          6.1|              30.5|\n",
      "|   10|     2.0| 2020-01-20 15:50:54|          75| 75|         1.74|               8.7|\n",
      "|   11|     2.0| 2020-01-31 11:35:17|         260|260|         1.18|5.8999999999999995|\n",
      "|   12|     1.0| 2020-01-04 20:44:28|         129|129|          2.2|              11.0|\n",
      "|   13|     2.0| 2020-01-17 21:47:52|          74| 74|         3.04|              15.2|\n",
      "|   14|     2.0| 2020-01-21 23:13:47|          61| 61|         0.85|              4.25|\n",
      "|   15|     2.0| 2020-01-02 08:11:21|          66| 66|         5.06|25.299999999999997|\n",
      "|   16|     2.0| 2020-01-27 02:59:20|           7|  7|         1.57|7.8500000000000005|\n",
      "|   17|     2.0| 2020-01-16 14:39:13|          74| 74|          6.8|              34.0|\n",
      "|   18|     2.0| 2020-01-16 18:42:24|          66| 66|         1.06| 5.300000000000001|\n",
      "|   19|     2.0| 2020-01-03 09:24:54|          61| 61|         1.23|              6.15|\n",
      "+-----+--------+--------------------+------------+---+-------------+------------------+\n",
      "only showing top 20 rows\n",
      "\n"
     ]
    },
    {
     "name": "stderr",
     "output_type": "stream",
     "text": [
      "                                                                                \r"
     ]
    }
   ],
   "source": [
    "duration_rdd.mapPartitions(apply_model_in_batch).toDF().show()"
   ]
  },
  {
   "cell_type": "code",
   "execution_count": 77,
   "id": "de77f23d-adf2-402f-be8d-99ab378c4c19",
   "metadata": {},
   "outputs": [
    {
     "name": "stderr",
     "output_type": "stream",
     "text": [
      "                                                                                \r"
     ]
    }
   ],
   "source": [
    "df_predicts = duration_rdd \\\n",
    "                    .mapPartitions(apply_model_in_batch) \\\n",
    "                    .toDF() \\\n",
    "                    .drop('Index')"
   ]
  },
  {
   "cell_type": "code",
   "execution_count": 78,
   "id": "4f9c48d0-e967-46b6-a130-adb8e64e1eae",
   "metadata": {},
   "outputs": [
    {
     "name": "stderr",
     "output_type": "stream",
     "text": [
      "[Stage 57:>                                                         (0 + 1) / 1]\r"
     ]
    },
    {
     "name": "stdout",
     "output_type": "stream",
     "text": [
      "+--------+--------------------+------------+---+-------------+------------------+\n",
      "|VendorID|lpep_pickup_datetime|PULocationID| _4|trip_distance|predicted_duration|\n",
      "+--------+--------------------+------------+---+-------------+------------------+\n",
      "|     2.0| 2020-01-23 13:10:15|          74| 74|        12.77|63.849999999999994|\n",
      "|     NaN| 2020-01-20 15:09:00|          67| 67|          8.0|              40.0|\n",
      "|     2.0| 2020-01-15 20:23:41|         260|260|         1.27|              6.35|\n",
      "|     2.0| 2020-01-05 16:32:26|          82| 82|         1.25|              6.25|\n",
      "|     2.0| 2020-01-29 19:22:42|         166|166|         1.84| 9.200000000000001|\n",
      "|     2.0| 2020-01-15 11:07:42|         179|179|         0.76|               3.8|\n",
      "|     2.0| 2020-01-16 08:22:29|          41| 41|         3.32|16.599999999999998|\n",
      "|     2.0| 2020-01-28 17:05:28|          75| 75|         2.21|             11.05|\n",
      "|     1.0| 2020-01-22 14:51:37|         152|152|          0.9|               4.5|\n",
      "|     2.0| 2020-01-31 10:25:04|          75| 75|          6.1|              30.5|\n",
      "|     2.0| 2020-01-20 15:50:54|          75| 75|         1.74|               8.7|\n",
      "|     2.0| 2020-01-31 11:35:17|         260|260|         1.18|5.8999999999999995|\n",
      "|     1.0| 2020-01-04 20:44:28|         129|129|          2.2|              11.0|\n",
      "|     2.0| 2020-01-17 21:47:52|          74| 74|         3.04|              15.2|\n",
      "|     2.0| 2020-01-21 23:13:47|          61| 61|         0.85|              4.25|\n",
      "|     2.0| 2020-01-02 08:11:21|          66| 66|         5.06|25.299999999999997|\n",
      "|     2.0| 2020-01-27 02:59:20|           7|  7|         1.57|7.8500000000000005|\n",
      "|     2.0| 2020-01-16 14:39:13|          74| 74|          6.8|              34.0|\n",
      "|     2.0| 2020-01-16 18:42:24|          66| 66|         1.06| 5.300000000000001|\n",
      "|     2.0| 2020-01-03 09:24:54|          61| 61|         1.23|              6.15|\n",
      "+--------+--------------------+------------+---+-------------+------------------+\n",
      "only showing top 20 rows\n",
      "\n"
     ]
    },
    {
     "name": "stderr",
     "output_type": "stream",
     "text": [
      "                                                                                \r"
     ]
    }
   ],
   "source": [
    "df_predicts.show()"
   ]
  },
  {
   "cell_type": "code",
   "execution_count": 79,
   "id": "a1694f6b-b485-4442-b029-b21bfee220ad",
   "metadata": {},
   "outputs": [
    {
     "name": "stderr",
     "output_type": "stream",
     "text": [
      "[Stage 58:>                                                         (0 + 1) / 1]\r"
     ]
    },
    {
     "name": "stdout",
     "output_type": "stream",
     "text": [
      "+------------------+\n",
      "|predicted_duration|\n",
      "+------------------+\n",
      "|63.849999999999994|\n",
      "|              40.0|\n",
      "|              6.35|\n",
      "|              6.25|\n",
      "| 9.200000000000001|\n",
      "|               3.8|\n",
      "|16.599999999999998|\n",
      "|             11.05|\n",
      "|               4.5|\n",
      "|              30.5|\n",
      "|               8.7|\n",
      "|5.8999999999999995|\n",
      "|              11.0|\n",
      "|              15.2|\n",
      "|              4.25|\n",
      "|25.299999999999997|\n",
      "|7.8500000000000005|\n",
      "|              34.0|\n",
      "| 5.300000000000001|\n",
      "|              6.15|\n",
      "+------------------+\n",
      "only showing top 20 rows\n",
      "\n"
     ]
    },
    {
     "name": "stderr",
     "output_type": "stream",
     "text": [
      "----------------------------------------                                        \n",
      "Exception occurred during processing of request from ('127.0.0.1', 34866)\n",
      "Traceback (most recent call last):\n",
      "  File \"/home/tobi/anaconda3/lib/python3.12/socketserver.py\", line 318, in _handle_request_noblock\n",
      "    self.process_request(request, client_address)\n",
      "  File \"/home/tobi/anaconda3/lib/python3.12/socketserver.py\", line 349, in process_request\n",
      "    self.finish_request(request, client_address)\n",
      "  File \"/home/tobi/anaconda3/lib/python3.12/socketserver.py\", line 362, in finish_request\n",
      "    self.RequestHandlerClass(request, client_address, self)\n",
      "  File \"/home/tobi/anaconda3/lib/python3.12/socketserver.py\", line 761, in __init__\n",
      "    self.handle()\n",
      "  File \"/home/tobi/spark/spark-3.4.3-bin-hadoop3/python/pyspark/accumulators.py\", line 281, in handle\n",
      "    poll(accum_updates)\n",
      "  File \"/home/tobi/spark/spark-3.4.3-bin-hadoop3/python/pyspark/accumulators.py\", line 253, in poll\n",
      "    if func():\n",
      "       ^^^^^^\n",
      "  File \"/home/tobi/spark/spark-3.4.3-bin-hadoop3/python/pyspark/accumulators.py\", line 257, in accum_updates\n",
      "    num_updates = read_int(self.rfile)\n",
      "                  ^^^^^^^^^^^^^^^^^^^^\n",
      "  File \"/home/tobi/spark/spark-3.4.3-bin-hadoop3/python/pyspark/serializers.py\", line 596, in read_int\n",
      "    raise EOFError\n",
      "EOFError\n",
      "----------------------------------------\n"
     ]
    }
   ],
   "source": [
    "df_predicts.select('predicted_duration').show()"
   ]
  },
  {
   "cell_type": "code",
   "execution_count": null,
   "id": "083f601e-d5ad-4d8f-a78f-a28bf800921b",
   "metadata": {},
   "outputs": [],
   "source": []
  }
 ],
 "metadata": {
  "kernelspec": {
   "display_name": "Python 3 (ipykernel)",
   "language": "python",
   "name": "python3"
  },
  "language_info": {
   "codemirror_mode": {
    "name": "ipython",
    "version": 3
   },
   "file_extension": ".py",
   "mimetype": "text/x-python",
   "name": "python",
   "nbconvert_exporter": "python",
   "pygments_lexer": "ipython3",
   "version": "3.12.4"
  }
 },
 "nbformat": 4,
 "nbformat_minor": 5
}
