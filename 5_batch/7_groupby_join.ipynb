{
 "cells": [
  {
   "cell_type": "code",
   "execution_count": 1,
   "id": "3a8216fc-4d29-4246-8957-b04908e79f7c",
   "metadata": {},
   "outputs": [],
   "source": [
    "import pyspark\n",
    "from pyspark.sql import SparkSession\n",
    "import pandas as pd\n",
    "from pyspark.sql import types\n",
    "from pyspark.sql import functions as F"
   ]
  },
  {
   "cell_type": "code",
   "execution_count": 2,
   "id": "f35ad6c8-c3e0-40bb-990f-520e6d6b9364",
   "metadata": {},
   "outputs": [
    {
     "name": "stderr",
     "output_type": "stream",
     "text": [
      "Setting default log level to \"WARN\".\n",
      "To adjust logging level use sc.setLogLevel(newLevel). For SparkR, use setLogLevel(newLevel).\n",
      "24/09/10 21:05:17 WARN NativeCodeLoader: Unable to load native-hadoop library for your platform... using builtin-java classes where applicable\n"
     ]
    }
   ],
   "source": [
    "spark = SparkSession.builder \\\n",
    "        .master(\"local[*]\") \\\n",
    "        .appName('test') \\\n",
    "        .config(\"spark.executor.memory\", \"4g\") \\\n",
    "    \t.config(\"spark.driver.memory\", \"4g\") \\\n",
    "        .getOrCreate()"
   ]
  },
  {
   "cell_type": "code",
   "execution_count": 3,
   "id": "76566d96-5fbb-427d-947e-54eb4ecd0391",
   "metadata": {},
   "outputs": [
    {
     "name": "stderr",
     "output_type": "stream",
     "text": [
      "                                                                                \r"
     ]
    },
    {
     "name": "stdout",
     "output_type": "stream",
     "text": [
      "root\n",
      " |-- VendorID: integer (nullable = true)\n",
      " |-- lpep_pickup_datetime: timestamp (nullable = true)\n",
      " |-- lpep_dropoff_datetime: timestamp (nullable = true)\n",
      " |-- store_and_fwd_flag: string (nullable = true)\n",
      " |-- RatecodeID: integer (nullable = true)\n",
      " |-- PULocationID: integer (nullable = true)\n",
      " |-- DOLocationID: integer (nullable = true)\n",
      " |-- passenger_count: integer (nullable = true)\n",
      " |-- trip_distance: double (nullable = true)\n",
      " |-- fare_amount: double (nullable = true)\n",
      " |-- extra: double (nullable = true)\n",
      " |-- mta_tax: double (nullable = true)\n",
      " |-- tip_amount: double (nullable = true)\n",
      " |-- tolls_amount: double (nullable = true)\n",
      " |-- ehail_fee: double (nullable = true)\n",
      " |-- improvement_surcharge: double (nullable = true)\n",
      " |-- total_amount: double (nullable = true)\n",
      " |-- payment_type: integer (nullable = true)\n",
      " |-- trip_type: integer (nullable = true)\n",
      " |-- congestion_surcharge: double (nullable = true)\n",
      "\n"
     ]
    }
   ],
   "source": [
    "df_green = spark.read.parquet('data/pq/green/*/*')\n",
    "df_green.printSchema()"
   ]
  },
  {
   "cell_type": "code",
   "execution_count": 4,
   "id": "61f583b8-9be3-419f-bd9d-54c5f1dd9b06",
   "metadata": {},
   "outputs": [],
   "source": [
    "df_green.createOrReplaceTempView ('green_trips')"
   ]
  },
  {
   "cell_type": "code",
   "execution_count": 5,
   "id": "59dcee84-3846-49d3-8ab0-4881be36bd43",
   "metadata": {},
   "outputs": [],
   "source": [
    "df_green_revenue = \\\n",
    "    spark.sql(\"\"\" \n",
    "                select\n",
    "                    date_trunc('hour', lpep_pickup_datetime)  as hour,\n",
    "                    PULocationID as zones,\n",
    "                    sum(total_amount) as revenue_monthly_total_amount,\n",
    "                    count(*) as number_records\n",
    "                from green_trips\n",
    "                where lpep_pickup_datetime >= '2020-01-01 00:00:00'\n",
    "                and lpep_pickup_datetime is not null\n",
    "                group by 1, 2\n",
    "          \n",
    "                ;\n",
    "                \"\"\")"
   ]
  },
  {
   "cell_type": "code",
   "execution_count": 6,
   "id": "0b020580-8552-489e-bf43-06a5498a8761",
   "metadata": {},
   "outputs": [
    {
     "name": "stderr",
     "output_type": "stream",
     "text": [
      "[Stage 1:============================================>              (3 + 1) / 4]\r"
     ]
    },
    {
     "name": "stdout",
     "output_type": "stream",
     "text": [
      "+-------------------+-----+----------------------------+--------------+\n",
      "|               hour|zones|revenue_monthly_total_amount|number_records|\n",
      "+-------------------+-----+----------------------------+--------------+\n",
      "|2020-01-28 19:00:00|  134|          193.61000000000007|            17|\n",
      "|2020-01-22 19:00:00|   65|           657.0300000000001|            41|\n",
      "|2020-01-27 08:00:00|   17|                       85.56|             4|\n",
      "|2020-01-02 09:00:00|   66|          229.39999999999998|            12|\n",
      "|2020-01-02 12:00:00|   89|          310.28000000000003|            14|\n",
      "|2020-01-07 12:00:00|   66|                       179.5|             9|\n",
      "|2020-01-03 08:00:00|  223|          165.90000000000003|             9|\n",
      "|2020-01-17 10:00:00|   41|           638.2699999999999|            49|\n",
      "|2020-01-02 11:00:00|   26|                       198.6|             7|\n",
      "|2020-01-12 20:00:00|  247|          36.900000000000006|             3|\n",
      "|2020-01-12 15:00:00|   10|                       75.92|             1|\n",
      "|2020-01-24 04:00:00|  129|          148.89000000000001|            13|\n",
      "|2020-01-04 20:00:00|   25|           369.5700000000001|            23|\n",
      "|2020-01-22 10:00:00|   74|          1179.0599999999988|            83|\n",
      "|2020-01-13 18:00:00|   92|          207.02000000000004|            11|\n",
      "|2020-01-19 11:00:00|  218|                      181.16|             5|\n",
      "|2020-01-26 12:00:00|   35|          257.03000000000003|             8|\n",
      "|2020-01-30 06:00:00|   75|                      282.63|            19|\n",
      "|2020-01-04 22:00:00|   83|                      298.16|            15|\n",
      "|2020-01-06 21:00:00|  129|          288.02000000000004|            14|\n",
      "+-------------------+-----+----------------------------+--------------+\n",
      "only showing top 20 rows\n",
      "\n"
     ]
    },
    {
     "name": "stderr",
     "output_type": "stream",
     "text": [
      "                                                                                \r"
     ]
    }
   ],
   "source": [
    "df_green_revenue.show()"
   ]
  },
  {
   "cell_type": "code",
   "execution_count": 7,
   "id": "29daad3e-ca10-44f0-bb2b-a68119aec072",
   "metadata": {},
   "outputs": [
    {
     "name": "stderr",
     "output_type": "stream",
     "text": [
      "                                                                                \r"
     ]
    }
   ],
   "source": [
    "df_green_revenue.repartition(4).write.parquet('data/report/revenue/green', mode='overwrite')"
   ]
  },
  {
   "cell_type": "code",
   "execution_count": 8,
   "id": "170c53d5-5174-48f8-afd8-a52b324a9ee9",
   "metadata": {},
   "outputs": [
    {
     "name": "stdout",
     "output_type": "stream",
     "text": [
      "root\n",
      " |-- VendorID: integer (nullable = true)\n",
      " |-- tpep_pickup_datetime: timestamp (nullable = true)\n",
      " |-- tpep_dropoff_datetime: timestamp (nullable = true)\n",
      " |-- passenger_count: integer (nullable = true)\n",
      " |-- trip_distance: double (nullable = true)\n",
      " |-- RatecodeID: integer (nullable = true)\n",
      " |-- store_and_fwd_flag: string (nullable = true)\n",
      " |-- PULocationID: integer (nullable = true)\n",
      " |-- DOLocationID: integer (nullable = true)\n",
      " |-- payment_type: integer (nullable = true)\n",
      " |-- fare_amount: double (nullable = true)\n",
      " |-- extra: double (nullable = true)\n",
      " |-- mta_tax: double (nullable = true)\n",
      " |-- tip_amount: double (nullable = true)\n",
      " |-- tolls_amount: double (nullable = true)\n",
      " |-- improvement_surcharge: double (nullable = true)\n",
      " |-- total_amount: double (nullable = true)\n",
      " |-- congestion_surcharge: double (nullable = true)\n",
      "\n"
     ]
    }
   ],
   "source": [
    "df_yellow = spark.read.parquet('data/pq/yellow/*/*')\n",
    "df_yellow.printSchema()"
   ]
  },
  {
   "cell_type": "code",
   "execution_count": 9,
   "id": "c50d8593-60d2-48ec-8454-ac112a2f4a2f",
   "metadata": {},
   "outputs": [],
   "source": [
    "df_yellow.createOrReplaceTempView ('yellow_trips')"
   ]
  },
  {
   "cell_type": "code",
   "execution_count": 10,
   "id": "6b23873c-eaa7-441c-b2d8-28e065bc2cfd",
   "metadata": {},
   "outputs": [],
   "source": [
    "df_yellow_revenue = \\\n",
    "    spark.sql(\"\"\" \n",
    "                select\n",
    "                    date_trunc('hour', tpep_pickup_datetime)  as hour,\n",
    "                    PULocationID as zones,\n",
    "                    sum(total_amount) as revenue_monthly_total_amount,\n",
    "                    count(*) as number_records\n",
    "                from yellow_trips\n",
    "                where tpep_pickup_datetime >= '2020-01-01 00:00:00'\n",
    "                and tpep_pickup_datetime is not null\n",
    "                group by 1, 2\n",
    "          \n",
    "                ;\n",
    "                \"\"\")"
   ]
  },
  {
   "cell_type": "code",
   "execution_count": 11,
   "id": "5a8dea32-af5c-40e4-8fe5-c8b97d99adcb",
   "metadata": {},
   "outputs": [
    {
     "name": "stderr",
     "output_type": "stream",
     "text": [
      "[Stage 11:===================================================>    (11 + 1) / 12]\r"
     ]
    },
    {
     "name": "stdout",
     "output_type": "stream",
     "text": [
      "+-------------------+-----+----------------------------+--------------+\n",
      "|               hour|zones|revenue_monthly_total_amount|number_records|\n",
      "+-------------------+-----+----------------------------+--------------+\n",
      "|2020-01-10 06:00:00|  144|                      149.51|             9|\n",
      "|2020-01-29 03:00:00|   13|                      248.89|             6|\n",
      "|2020-01-13 21:00:00|  255|                      108.98|             8|\n",
      "|2020-01-04 12:00:00|  249|           2245.569999999999|           152|\n",
      "|2020-01-02 15:00:00|  236|           7382.910000000018|           504|\n",
      "|2020-01-31 21:00:00|   50|          1784.4399999999994|           104|\n",
      "|2020-01-07 12:00:00|   68|           3046.229999999997|           181|\n",
      "|2020-01-02 09:00:00|  161|          4299.9299999999985|           242|\n",
      "|2020-01-23 17:00:00|  233|           4642.769999999999|           235|\n",
      "|2020-01-06 22:00:00|  158|           923.2100000000003|            57|\n",
      "|2020-01-15 07:00:00|   13|          2432.6299999999997|           118|\n",
      "|2020-01-23 19:00:00|  224|                      327.28|            16|\n",
      "|2020-01-18 00:00:00|  144|          2951.2999999999984|           174|\n",
      "|2020-01-17 19:00:00|  170|           9634.390000000025|           555|\n",
      "|2020-01-06 08:00:00|   43|           2765.499999999998|           169|\n",
      "|2020-01-23 22:00:00|  162|           9752.940000000017|           553|\n",
      "|2020-01-25 21:00:00|  230|           5935.560000000009|           388|\n",
      "|2020-01-04 02:00:00|   79|           6893.030000000011|           426|\n",
      "|2020-01-01 01:00:00|  107|           9994.480000000025|           583|\n",
      "|2020-01-21 18:00:00|  162|           14090.39000000004|           816|\n",
      "+-------------------+-----+----------------------------+--------------+\n",
      "only showing top 20 rows\n",
      "\n"
     ]
    },
    {
     "name": "stderr",
     "output_type": "stream",
     "text": [
      "                                                                                \r"
     ]
    }
   ],
   "source": [
    "df_yellow_revenue.show()"
   ]
  },
  {
   "cell_type": "code",
   "execution_count": 12,
   "id": "3adaf2d8-de61-4742-8bb2-1a6f84164c7e",
   "metadata": {},
   "outputs": [
    {
     "name": "stderr",
     "output_type": "stream",
     "text": [
      "                                                                                \r"
     ]
    }
   ],
   "source": [
    "df_yellow_revenue.repartition(4).write.parquet('data/report/revenue/yellow', mode='overwrite')"
   ]
  },
  {
   "cell_type": "code",
   "execution_count": 13,
   "id": "67f83eaf-6c88-429c-97bb-fa306fd72e62",
   "metadata": {},
   "outputs": [],
   "source": [
    "df_green_revenue_tmp = df_green_revenue \\\n",
    "                        .withColumnRenamed('revenue_monthly_total_amount', 'green_amount') \\\n",
    "                        .withColumnRenamed('number_records', 'green_number_records')\n",
    "\n",
    "df_yellow_revenue_tmp = df_yellow_revenue \\\n",
    "                        .withColumnRenamed('revenue_monthly_total_amount', 'yellow_amount') \\\n",
    "                        .withColumnRenamed('number_records', 'yellow_number_records')"
   ]
  },
  {
   "cell_type": "code",
   "execution_count": 14,
   "id": "cd6ecd79-fd28-4afd-a824-746c703189e5",
   "metadata": {},
   "outputs": [],
   "source": [
    "combined_df = df_green_revenue_tmp.join(df_yellow_revenue_tmp, on=['hour', 'zones'], how='outer')"
   ]
  },
  {
   "cell_type": "code",
   "execution_count": 15,
   "id": "bef33e9a-b614-43ee-9acb-1d4b9df6b741",
   "metadata": {},
   "outputs": [
    {
     "name": "stderr",
     "output_type": "stream",
     "text": [
      "[Stage 24:>                                                         (0 + 1) / 1]\r"
     ]
    },
    {
     "name": "stdout",
     "output_type": "stream",
     "text": [
      "+-------------------+-----+------------------+--------------------+------------------+---------------------+\n",
      "|               hour|zones|      green_amount|green_number_records|     yellow_amount|yellow_number_records|\n",
      "+-------------------+-----+------------------+--------------------+------------------+---------------------+\n",
      "|2020-01-01 00:00:00|    3|              null|                null|              25.0|                    1|\n",
      "|2020-01-01 00:00:00|    4|              null|                null|1004.3000000000002|                   57|\n",
      "|2020-01-01 00:00:00|    7| 769.7299999999996|                  45| 455.1700000000001|                   38|\n",
      "|2020-01-01 00:00:00|   12|              null|                null|             107.0|                    6|\n",
      "|2020-01-01 00:00:00|   37|            175.67|                   6|161.60999999999999|                    7|\n",
      "|2020-01-01 00:00:00|   40|168.97999999999996|                   8|             89.97|                    5|\n",
      "|2020-01-01 00:00:00|   45|              null|                null| 732.4800000000002|                   42|\n",
      "|2020-01-01 00:00:00|   47|              13.3|                   1|               8.3|                    1|\n",
      "|2020-01-01 00:00:00|   51|              17.8|                   2|              31.0|                    1|\n",
      "|2020-01-01 00:00:00|   62|             15.95|                   1|             61.43|                    1|\n",
      "|2020-01-01 00:00:00|   68|              null|                null| 7825.070000000012|                  396|\n",
      "|2020-01-01 00:00:00|   73|              null|                null|              17.3|                    1|\n",
      "|2020-01-01 00:00:00|   74|317.09000000000015|                  24| 586.2100000000002|                   47|\n",
      "|2020-01-01 00:00:00|   77| 75.99000000000001|                   2|            134.24|                    3|\n",
      "|2020-01-01 00:00:00|   80|364.32000000000005|                  13|             371.4|                   20|\n",
      "|2020-01-01 00:00:00|   83|              94.1|                   7|               9.8|                    1|\n",
      "|2020-01-01 00:00:00|   88|              null|                null| 823.8000000000002|                   36|\n",
      "|2020-01-01 00:00:00|   89|              11.3|                   1|             48.16|                    2|\n",
      "|2020-01-01 00:00:00|   94| 64.24000000000001|                   3|              13.3|                    1|\n",
      "|2020-01-01 00:00:00|   95|202.20000000000002|                  15|               6.3|                    1|\n",
      "+-------------------+-----+------------------+--------------------+------------------+---------------------+\n",
      "only showing top 20 rows\n",
      "\n"
     ]
    },
    {
     "name": "stderr",
     "output_type": "stream",
     "text": [
      "                                                                                \r"
     ]
    }
   ],
   "source": [
    "combined_df.show()"
   ]
  },
  {
   "cell_type": "code",
   "execution_count": 16,
   "id": "9f8d9ea0-0fed-4e58-9f50-021cffa8f791",
   "metadata": {},
   "outputs": [
    {
     "name": "stderr",
     "output_type": "stream",
     "text": [
      "                                                                                \r"
     ]
    }
   ],
   "source": [
    "combined_df.write.parquet('data/report/revenue/total', mode='overwrite')"
   ]
  },
  {
   "cell_type": "code",
   "execution_count": 17,
   "id": "98e14c5b-7476-4543-873b-5c915cb359fb",
   "metadata": {},
   "outputs": [],
   "source": [
    "df_zones = spark.read.parquet('zones/')"
   ]
  },
  {
   "cell_type": "code",
   "execution_count": 19,
   "id": "4d313a95-e7ff-453c-bf66-dcec8e0ae791",
   "metadata": {},
   "outputs": [],
   "source": [
    "df_result = combined_df.join(df_zones, combined_df.zones == df_zones.LocationID)"
   ]
  },
  {
   "cell_type": "code",
   "execution_count": 20,
   "id": "6bb76157-037b-45db-97e9-6924236f5d34",
   "metadata": {},
   "outputs": [
    {
     "name": "stderr",
     "output_type": "stream",
     "text": [
      "[Stage 33:===================================================>    (11 + 1) / 12]\r"
     ]
    },
    {
     "name": "stdout",
     "output_type": "stream",
     "text": [
      "+-------------------+------------------+--------------------+------------------+---------------------+---------+--------------------+------------+\n",
      "|               hour|      green_amount|green_number_records|     yellow_amount|yellow_number_records|  Borough|                Zone|service_zone|\n",
      "+-------------------+------------------+--------------------+------------------+---------------------+---------+--------------------+------------+\n",
      "|2020-01-01 00:00:00|              null|                null|              25.0|                    1|    Bronx|Allerton/Pelham G...|   Boro Zone|\n",
      "|2020-01-01 00:00:00|              null|                null|1004.3000000000002|                   57|Manhattan|       Alphabet City| Yellow Zone|\n",
      "|2020-01-01 00:00:00| 769.7299999999996|                  45| 455.1700000000001|                   38|   Queens|             Astoria|   Boro Zone|\n",
      "|2020-01-01 00:00:00|              null|                null|             107.0|                    6|Manhattan|        Battery Park| Yellow Zone|\n",
      "|2020-01-01 00:00:00|            175.67|                   6|161.60999999999999|                    7| Brooklyn|      Bushwick South|   Boro Zone|\n",
      "|2020-01-01 00:00:00|168.97999999999996|                   8|             89.97|                    5| Brooklyn|     Carroll Gardens|   Boro Zone|\n",
      "|2020-01-01 00:00:00|              null|                null| 732.4800000000002|                   42|Manhattan|           Chinatown| Yellow Zone|\n",
      "|2020-01-01 00:00:00|              13.3|                   1|               8.3|                    1|    Bronx|  Claremont/Bathgate|   Boro Zone|\n",
      "|2020-01-01 00:00:00|              17.8|                   2|              31.0|                    1|    Bronx|          Co-Op City|   Boro Zone|\n",
      "|2020-01-01 00:00:00|             15.95|                   1|             61.43|                    1| Brooklyn| Crown Heights South|   Boro Zone|\n",
      "|2020-01-01 00:00:00|              null|                null| 7825.070000000012|                  396|Manhattan|        East Chelsea| Yellow Zone|\n",
      "|2020-01-01 00:00:00|              null|                null|              17.3|                    1|   Queens|       East Flushing|   Boro Zone|\n",
      "|2020-01-01 00:00:00|317.09000000000015|                  24| 586.2100000000002|                   47|Manhattan|   East Harlem North|   Boro Zone|\n",
      "|2020-01-01 00:00:00| 75.99000000000001|                   2|            134.24|                    3| Brooklyn|East New York/Pen...|   Boro Zone|\n",
      "|2020-01-01 00:00:00|364.32000000000005|                  13|             371.4|                   20| Brooklyn|   East Williamsburg|   Boro Zone|\n",
      "|2020-01-01 00:00:00|              94.1|                   7|               9.8|                    1|   Queens|    Elmhurst/Maspeth|   Boro Zone|\n",
      "|2020-01-01 00:00:00|              null|                null| 823.8000000000002|                   36|Manhattan|Financial Distric...| Yellow Zone|\n",
      "|2020-01-01 00:00:00|              11.3|                   1|             48.16|                    2| Brooklyn|Flatbush/Ditmas Park|   Boro Zone|\n",
      "|2020-01-01 00:00:00| 64.24000000000001|                   3|              13.3|                    1|    Bronx|       Fordham South|   Boro Zone|\n",
      "|2020-01-01 00:00:00|202.20000000000002|                  15|               6.3|                    1|   Queens|        Forest Hills|   Boro Zone|\n",
      "+-------------------+------------------+--------------------+------------------+---------------------+---------+--------------------+------------+\n",
      "only showing top 20 rows\n",
      "\n"
     ]
    },
    {
     "name": "stderr",
     "output_type": "stream",
     "text": [
      "                                                                                \r"
     ]
    }
   ],
   "source": [
    "df_result.drop('LocationID', 'zones').show()"
   ]
  },
  {
   "cell_type": "code",
   "execution_count": 21,
   "id": "e0703c67-9a57-4954-abc4-a73d6058ea65",
   "metadata": {},
   "outputs": [
    {
     "name": "stderr",
     "output_type": "stream",
     "text": [
      "                                                                                \r"
     ]
    }
   ],
   "source": [
    "df_result.drop('LocationID').write.parquet('tmp/revenue_zones')"
   ]
  },
  {
   "cell_type": "code",
   "execution_count": null,
   "id": "3cf02bc3-065a-4207-b972-b2e1ca663d78",
   "metadata": {},
   "outputs": [],
   "source": []
  }
 ],
 "metadata": {
  "kernelspec": {
   "display_name": "Python 3 (ipykernel)",
   "language": "python",
   "name": "python3"
  },
  "language_info": {
   "codemirror_mode": {
    "name": "ipython",
    "version": 3
   },
   "file_extension": ".py",
   "mimetype": "text/x-python",
   "name": "python",
   "nbconvert_exporter": "python",
   "pygments_lexer": "ipython3",
   "version": "3.12.4"
  }
 },
 "nbformat": 4,
 "nbformat_minor": 5
}
